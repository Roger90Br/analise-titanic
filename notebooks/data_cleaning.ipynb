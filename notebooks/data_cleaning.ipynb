Documentação do Processamento de Dados
Limpeza de Dados
Neste projeto, a etapa de limpeza de dados convencional não foi realizada no conjunto de dados de treino. O dataset não passou por processos típicos de limpeza como remoção de outliers, correção de tipos de dados, ou transformações extensivas nas colunas.

Tratamento Realizado
O único tratamento aplicado ao conjunto de dados de treino foi a imputação das idades ausentes. Para preencher os valores faltantes na coluna de idades, foi utilizada uma abordagem de regressão linear. Esta técnica foi escolhida para prever as idades com base nas características conhecidas dos passageiros.

Detalhes do Tratamento:

Método: Regressão Linear
Objetivo: Preencher os valores ausentes na coluna de idades.
Observação:
Não houve outras intervenções significativas nos dados além da imputação mencionada. A estrutura geral dos dados foi mantida conforme original.
